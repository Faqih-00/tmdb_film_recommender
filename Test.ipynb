{
 "cells": [
  {
   "cell_type": "code",
   "execution_count": 1,
   "id": "77305df0",
   "metadata": {},
   "outputs": [],
   "source": [
    "from sklearn.feature_extraction.text import CountVectorizer\n",
    "from nltk.tokenize import word_tokenize\n",
    "from sklearn.metrics.pairwise import cosine_distances\n",
    "\n",
    "import pandas as pd"
   ]
  },
  {
   "cell_type": "code",
   "execution_count": 2,
   "id": "8ce1fb64",
   "metadata": {
    "scrolled": true
   },
   "outputs": [
    {
     "data": {
      "text/html": [
       "<div>\n",
       "<style scoped>\n",
       "    .dataframe tbody tr th:only-of-type {\n",
       "        vertical-align: middle;\n",
       "    }\n",
       "\n",
       "    .dataframe tbody tr th {\n",
       "        vertical-align: top;\n",
       "    }\n",
       "\n",
       "    .dataframe thead th {\n",
       "        text-align: right;\n",
       "    }\n",
       "</style>\n",
       "<table border=\"1\" class=\"dataframe\">\n",
       "  <thead>\n",
       "    <tr style=\"text-align: right;\">\n",
       "      <th></th>\n",
       "      <th>movie_id</th>\n",
       "      <th>title</th>\n",
       "      <th>metadata</th>\n",
       "    </tr>\n",
       "  </thead>\n",
       "  <tbody>\n",
       "    <tr>\n",
       "      <th>0</th>\n",
       "      <td>19995</td>\n",
       "      <td>Avatar</td>\n",
       "      <td>In the 22nd century, a paraplegic Marine is di...</td>\n",
       "    </tr>\n",
       "    <tr>\n",
       "      <th>1</th>\n",
       "      <td>285</td>\n",
       "      <td>Pirates of the Caribbean: At World's End</td>\n",
       "      <td>Captain Barbossa, long believed to be dead, ha...</td>\n",
       "    </tr>\n",
       "    <tr>\n",
       "      <th>2</th>\n",
       "      <td>206647</td>\n",
       "      <td>Spectre</td>\n",
       "      <td>A cryptic message from Bond’s past sends him o...</td>\n",
       "    </tr>\n",
       "    <tr>\n",
       "      <th>3</th>\n",
       "      <td>49026</td>\n",
       "      <td>The Dark Knight Rises</td>\n",
       "      <td>Following the death of District Attorney Harve...</td>\n",
       "    </tr>\n",
       "    <tr>\n",
       "      <th>4</th>\n",
       "      <td>49529</td>\n",
       "      <td>John Carter</td>\n",
       "      <td>John Carter is a war-weary, former military ca...</td>\n",
       "    </tr>\n",
       "  </tbody>\n",
       "</table>\n",
       "</div>"
      ],
      "text/plain": [
       "   movie_id                                     title  \\\n",
       "0     19995                                    Avatar   \n",
       "1       285  Pirates of the Caribbean: At World's End   \n",
       "2    206647                                   Spectre   \n",
       "3     49026                     The Dark Knight Rises   \n",
       "4     49529                               John Carter   \n",
       "\n",
       "                                            metadata  \n",
       "0  In the 22nd century, a paraplegic Marine is di...  \n",
       "1  Captain Barbossa, long believed to be dead, ha...  \n",
       "2  A cryptic message from Bond’s past sends him o...  \n",
       "3  Following the death of District Attorney Harve...  \n",
       "4  John Carter is a war-weary, former military ca...  "
      ]
     },
     "execution_count": 2,
     "metadata": {},
     "output_type": "execute_result"
    }
   ],
   "source": [
    "df = pd.read_csv('tmdb_preprocessed_movies.csv')\n",
    "df.head()"
   ]
  },
  {
   "cell_type": "code",
   "execution_count": 3,
   "id": "1413a57f",
   "metadata": {},
   "outputs": [
    {
     "data": {
      "text/plain": [
       "movie_id                                                  601\n",
       "title                              E.T. the Extra-Terrestrial\n",
       "metadata    After a gentle alien becomes stranded on Earth...\n",
       "Name: 2971, dtype: object"
      ]
     },
     "execution_count": 3,
     "metadata": {},
     "output_type": "execute_result"
    }
   ],
   "source": [
    "df.loc[2971]"
   ]
  },
  {
   "cell_type": "code",
   "execution_count": 4,
   "id": "179ba4b6",
   "metadata": {},
   "outputs": [],
   "source": [
    "class FilmRecommenderSystem:\n",
    "    def __init__(self,data, content_col):\n",
    "        self.df = pd.read_csv(data)\n",
    "        self.content_col = content_col\n",
    "        self.encoder = None\n",
    "        self.bank = None\n",
    "        \n",
    "    def fit(self):\n",
    "        self.encoder = CountVectorizer(stop_words='english', tokenizer=word_tokenize)\n",
    "        self.bank = self.encoder.fit_transform(self.df[self.content_col])\n",
    "    \n",
    "    def recommend(self, idx, top=10):\n",
    "        content = df.loc[idx, self.content_col]\n",
    "        code = self.encoder.transform([content])\n",
    "        dist = cosine_distances(code, self.bank)\n",
    "        rec_idx = dist.argsort()[0, 1:(top+1)]\n",
    "        return df.loc[rec_idx]"
   ]
  },
  {
   "cell_type": "code",
   "execution_count": 5,
   "id": "53b4db70",
   "metadata": {},
   "outputs": [],
   "source": [
    "recsys = FilmRecommenderSystem('tmdb_preprocessed_movies.csv', content_col=\"metadata\")\n",
    "recsys.fit()"
   ]
  },
  {
   "cell_type": "code",
   "execution_count": 6,
   "id": "8cade117",
   "metadata": {},
   "outputs": [
    {
     "data": {
      "text/html": [
       "<div>\n",
       "<style scoped>\n",
       "    .dataframe tbody tr th:only-of-type {\n",
       "        vertical-align: middle;\n",
       "    }\n",
       "\n",
       "    .dataframe tbody tr th {\n",
       "        vertical-align: top;\n",
       "    }\n",
       "\n",
       "    .dataframe thead th {\n",
       "        text-align: right;\n",
       "    }\n",
       "</style>\n",
       "<table border=\"1\" class=\"dataframe\">\n",
       "  <thead>\n",
       "    <tr style=\"text-align: right;\">\n",
       "      <th></th>\n",
       "      <th>movie_id</th>\n",
       "      <th>title</th>\n",
       "      <th>metadata</th>\n",
       "    </tr>\n",
       "  </thead>\n",
       "  <tbody>\n",
       "    <tr>\n",
       "      <th>2971</th>\n",
       "      <td>601</td>\n",
       "      <td>E.T. the Extra-Terrestrial</td>\n",
       "      <td>After a gentle alien becomes stranded on Earth...</td>\n",
       "    </tr>\n",
       "    <tr>\n",
       "      <th>47</th>\n",
       "      <td>54138</td>\n",
       "      <td>Star Trek Into Darkness</td>\n",
       "      <td>When the crew of the Enterprise is called back...</td>\n",
       "    </tr>\n",
       "    <tr>\n",
       "      <th>2333</th>\n",
       "      <td>106</td>\n",
       "      <td>Predator</td>\n",
       "      <td>Dutch and his group of commandos are hired by ...</td>\n",
       "    </tr>\n",
       "    <tr>\n",
       "      <th>661</th>\n",
       "      <td>6795</td>\n",
       "      <td>Zathura: A Space Adventure</td>\n",
       "      <td>After their father is called into work, two yo...</td>\n",
       "    </tr>\n",
       "    <tr>\n",
       "      <th>507</th>\n",
       "      <td>602</td>\n",
       "      <td>Independence Day</td>\n",
       "      <td>On July 2, a giant alien mothership enters orb...</td>\n",
       "    </tr>\n",
       "    <tr>\n",
       "      <th>1204</th>\n",
       "      <td>34851</td>\n",
       "      <td>Predators</td>\n",
       "      <td>A mercenary reluctantly leads a motley crew of...</td>\n",
       "    </tr>\n",
       "    <tr>\n",
       "      <th>158</th>\n",
       "      <td>13475</td>\n",
       "      <td>Star Trek</td>\n",
       "      <td>The fate of the galaxy rests in the hands of b...</td>\n",
       "    </tr>\n",
       "    <tr>\n",
       "      <th>1002</th>\n",
       "      <td>10416</td>\n",
       "      <td>What Planet Are You From?</td>\n",
       "      <td>A highly-evolved planet, whose denizens feel n...</td>\n",
       "    </tr>\n",
       "    <tr>\n",
       "      <th>1327</th>\n",
       "      <td>14324</td>\n",
       "      <td>Virgin Territory</td>\n",
       "      <td>The film is set in Tuscany during the Black De...</td>\n",
       "    </tr>\n",
       "    <tr>\n",
       "      <th>1945</th>\n",
       "      <td>168705</td>\n",
       "      <td>BloodRayne</td>\n",
       "      <td>In eighteenth century Romania, Rayne, a dhampi...</td>\n",
       "    </tr>\n",
       "  </tbody>\n",
       "</table>\n",
       "</div>"
      ],
      "text/plain": [
       "      movie_id                       title  \\\n",
       "2971       601  E.T. the Extra-Terrestrial   \n",
       "47       54138     Star Trek Into Darkness   \n",
       "2333       106                    Predator   \n",
       "661       6795  Zathura: A Space Adventure   \n",
       "507        602            Independence Day   \n",
       "1204     34851                   Predators   \n",
       "158      13475                   Star Trek   \n",
       "1002     10416   What Planet Are You From?   \n",
       "1327     14324            Virgin Territory   \n",
       "1945    168705                  BloodRayne   \n",
       "\n",
       "                                               metadata  \n",
       "2971  After a gentle alien becomes stranded on Earth...  \n",
       "47    When the crew of the Enterprise is called back...  \n",
       "2333  Dutch and his group of commandos are hired by ...  \n",
       "661   After their father is called into work, two yo...  \n",
       "507   On July 2, a giant alien mothership enters orb...  \n",
       "1204  A mercenary reluctantly leads a motley crew of...  \n",
       "158   The fate of the galaxy rests in the hands of b...  \n",
       "1002  A highly-evolved planet, whose denizens feel n...  \n",
       "1327  The film is set in Tuscany during the Black De...  \n",
       "1945  In eighteenth century Romania, Rayne, a dhampi...  "
      ]
     },
     "execution_count": 6,
     "metadata": {},
     "output_type": "execute_result"
    }
   ],
   "source": [
    "recsys.recommend(0)"
   ]
  },
  {
   "cell_type": "code",
   "execution_count": 7,
   "id": "f7f2c4d2",
   "metadata": {},
   "outputs": [
    {
     "data": {
      "text/html": [
       "<div>\n",
       "<style scoped>\n",
       "    .dataframe tbody tr th:only-of-type {\n",
       "        vertical-align: middle;\n",
       "    }\n",
       "\n",
       "    .dataframe tbody tr th {\n",
       "        vertical-align: top;\n",
       "    }\n",
       "\n",
       "    .dataframe thead th {\n",
       "        text-align: right;\n",
       "    }\n",
       "</style>\n",
       "<table border=\"1\" class=\"dataframe\">\n",
       "  <thead>\n",
       "    <tr style=\"text-align: right;\">\n",
       "      <th></th>\n",
       "      <th>movie_id</th>\n",
       "      <th>title</th>\n",
       "      <th>metadata</th>\n",
       "    </tr>\n",
       "  </thead>\n",
       "  <tbody>\n",
       "    <tr>\n",
       "      <th>4574</th>\n",
       "      <td>328307</td>\n",
       "      <td>Rise of the Entrepreneur: The Search for a Bet...</td>\n",
       "      <td>The world is changing faster than ever. Techno...</td>\n",
       "    </tr>\n",
       "    <tr>\n",
       "      <th>4800</th>\n",
       "      <td>67238</td>\n",
       "      <td>Cavite</td>\n",
       "      <td>Adam, a security guard, travels from Californi...</td>\n",
       "    </tr>\n",
       "    <tr>\n",
       "      <th>3230</th>\n",
       "      <td>20360</td>\n",
       "      <td>Namastey London</td>\n",
       "      <td>Indian-born Manmohan Malhotra decided to re-lo...</td>\n",
       "    </tr>\n",
       "    <tr>\n",
       "      <th>661</th>\n",
       "      <td>6795</td>\n",
       "      <td>Zathura: A Space Adventure</td>\n",
       "      <td>After their father is called into work, two yo...</td>\n",
       "    </tr>\n",
       "    <tr>\n",
       "      <th>3547</th>\n",
       "      <td>7913</td>\n",
       "      <td>Rang De Basanti</td>\n",
       "      <td>A young idealistic English filmmaker, Sue, arr...</td>\n",
       "    </tr>\n",
       "    <tr>\n",
       "      <th>1002</th>\n",
       "      <td>10416</td>\n",
       "      <td>What Planet Are You From?</td>\n",
       "      <td>A highly-evolved planet, whose denizens feel n...</td>\n",
       "    </tr>\n",
       "    <tr>\n",
       "      <th>3921</th>\n",
       "      <td>53862</td>\n",
       "      <td>Trippin'</td>\n",
       "      <td>Greg is near the end of his senior year in hig...</td>\n",
       "    </tr>\n",
       "    <tr>\n",
       "      <th>3107</th>\n",
       "      <td>115872</td>\n",
       "      <td>The Chambermaid on the Titanic</td>\n",
       "      <td>Horty, a French foundry worker, wins a contest...</td>\n",
       "    </tr>\n",
       "    <tr>\n",
       "      <th>4569</th>\n",
       "      <td>325579</td>\n",
       "      <td>Diamond Ruff</td>\n",
       "      <td>Action - Orphan, con artist, crime boss and mi...</td>\n",
       "    </tr>\n",
       "    <tr>\n",
       "      <th>1603</th>\n",
       "      <td>307081</td>\n",
       "      <td>Southpaw</td>\n",
       "      <td>Billy \"The Great\" Hope, the reigning junior mi...</td>\n",
       "    </tr>\n",
       "  </tbody>\n",
       "</table>\n",
       "</div>"
      ],
      "text/plain": [
       "      movie_id                                              title  \\\n",
       "4574    328307  Rise of the Entrepreneur: The Search for a Bet...   \n",
       "4800     67238                                             Cavite   \n",
       "3230     20360                                    Namastey London   \n",
       "661       6795                         Zathura: A Space Adventure   \n",
       "3547      7913                                    Rang De Basanti   \n",
       "1002     10416                          What Planet Are You From?   \n",
       "3921     53862                                           Trippin'   \n",
       "3107    115872                     The Chambermaid on the Titanic   \n",
       "4569    325579                                       Diamond Ruff   \n",
       "1603    307081                                           Southpaw   \n",
       "\n",
       "                                               metadata  \n",
       "4574  The world is changing faster than ever. Techno...  \n",
       "4800  Adam, a security guard, travels from Californi...  \n",
       "3230  Indian-born Manmohan Malhotra decided to re-lo...  \n",
       "661   After their father is called into work, two yo...  \n",
       "3547  A young idealistic English filmmaker, Sue, arr...  \n",
       "1002  A highly-evolved planet, whose denizens feel n...  \n",
       "3921  Greg is near the end of his senior year in hig...  \n",
       "3107  Horty, a French foundry worker, wins a contest...  \n",
       "4569  Action - Orphan, con artist, crime boss and mi...  \n",
       "1603  Billy \"The Great\" Hope, the reigning junior mi...  "
      ]
     },
     "execution_count": 7,
     "metadata": {},
     "output_type": "execute_result"
    }
   ],
   "source": [
    "recsys.recommend(2971)"
   ]
  },
  {
   "cell_type": "code",
   "execution_count": 8,
   "id": "9063f1e7",
   "metadata": {
    "scrolled": true
   },
   "outputs": [
    {
     "data": {
      "text/plain": [
       "'After a gentle alien becomes stranded on Earth, the being is discovered and befriended by a young boy named Elliott. Bringing the extraterrestrial into his suburban California house, Elliott introduces E.T., as the alien is dubbed, to his brother and his little sister, Gertie, and the children decide to keep its existence a secret. Soon, however, E.T. falls ill, resulting in government intervention and a dire situation for both Elliott and the alien. ScienceFiction Adventure Family Fantasy farewell homesickness nasa extraterrestrialtechnology operation spacemarine lossoffather hidingplace ridingabicycle flyingsaucer prosecution halloween flowerpot finger single HenryThomas DrewBarrymore RobertMacNaughton StevenSpielberg'"
      ]
     },
     "execution_count": 8,
     "metadata": {},
     "output_type": "execute_result"
    }
   ],
   "source": [
    "df.iloc[2971].metadata"
   ]
  },
  {
   "cell_type": "code",
   "execution_count": 10,
   "id": "9413d119",
   "metadata": {},
   "outputs": [
    {
     "data": {
      "text/plain": [
       "\"The world is changing faster than ever. Technology is accelerating, job security is declining and income inequality is increasing. People are overworked and underpaid. With less time and freedom, people are left wondering if there is a better way. Our changing economy has led to the rise of the entrepreneur. The fastest, most dependable and controllable way to become wealthy is to own your own business. This documentary gathers today's best experts and thought leaders to forever change how you view work and wealth. Featuring experts Jordan Adler, John Assaraf, Kody Bateman, Chris Brogan, Richard Bliss Brooke, Ali Brown, Les Brown, Jack Canfield, Harry S. Dent, Jr., Dr. Linda Ferrell, Dr. OC Ferrell, Mark Victor Hansen, Kevin Harrington, Kim Kiyosaki, Robert Kiyosaki, Joseph N. Mariano, Dr. Ivan Misner, Paul Zane Pilzer, Bob Proctor, Susan Sly, Loren Slocum, Kevin Thompson, Brian Tracy, Eric Worre and Sandra Yancey.\""
      ]
     },
     "execution_count": 10,
     "metadata": {},
     "output_type": "execute_result"
    }
   ],
   "source": [
    "df.iloc[4574].metadata"
   ]
  },
  {
   "cell_type": "code",
   "execution_count": null,
   "id": "757cda62",
   "metadata": {},
   "outputs": [],
   "source": []
  }
 ],
 "metadata": {
  "kernelspec": {
   "display_name": "Python 3 (ipykernel)",
   "language": "python",
   "name": "python3"
  },
  "language_info": {
   "codemirror_mode": {
    "name": "ipython",
    "version": 3
   },
   "file_extension": ".py",
   "mimetype": "text/x-python",
   "name": "python",
   "nbconvert_exporter": "python",
   "pygments_lexer": "ipython3",
   "version": "3.8.8"
  }
 },
 "nbformat": 4,
 "nbformat_minor": 5
}
